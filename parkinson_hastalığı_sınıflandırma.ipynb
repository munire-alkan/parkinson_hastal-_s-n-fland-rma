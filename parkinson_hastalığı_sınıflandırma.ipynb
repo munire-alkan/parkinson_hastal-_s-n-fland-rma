{
 "cells": [
  {
   "cell_type": "markdown",
   "id": "4aa956b2-658b-47fd-8d73-c9b76b5f3727",
   "metadata": {},
   "source": [
    "***Veri Ön İşleme Adımları***"
   ]
  },
  {
   "cell_type": "markdown",
   "id": "fb544c96-5e9e-4acb-8242-bd8341150a8f",
   "metadata": {},
   "source": [
    "**1)Eksik Verilerin Kontrolü ve Temizlenmesi:** Eksik verileri kontrol edip gerekirse uygun yöntemlerle doldurmak.\n",
    "**2)Aykırı Değerlerin Analizi:** Aykırı değerlerin olup olmadığını kontrol etmek ve gerekirse bu değerleri ele almak.\n",
    "**3)Özellik Seçimi ve Dönüşümleri:** Gerekirse özellikleri seçmek veya dönüştürmek.\n",
    "**4)Ölçeklendirme:** Özelliklerin ölçeklendirilmesi.\n",
    "Bu adımları izleyerek veri ön işleme yapalım ve ardından modelleri uygulayalım. \n",
    "\n",
    "Veri setini incelediğimizde, her biri farklı özelliklere sahip 755 sütun ve bir class sütunu ile sınıflandırma etiketi olduğunu görüyoruz. Şimdi veri ön işleme adımlarını uygulayalım:\n",
    "\n",
    "**1)Eksik Verilerin Kontrolü ve Temizlenmesi:** Veri setinde eksik değer olup olmadığını kontrol edelim.\n",
    "**2)Aykırı Değerlerin Analizi:** Temel istatistiksel analizlerle aykırı değerleri kontrol edelim.\n",
    "**3)Özellik Seçimi ve Dönüşümleri:** 'id' ve 'class' dışında kalan sütunları özellikler olarak belirleyelim.\n",
    "**4)Ölçeklendirme:** Standartlaştırma işlemi uygulayalım."
   ]
  },
  {
   "cell_type": "code",
   "execution_count": 45,
   "id": "e8a03e71-e0bd-4423-98e6-0264d8d91c62",
   "metadata": {},
   "outputs": [
    {
     "data": {
      "text/html": [
       "<div>\n",
       "<style scoped>\n",
       "    .dataframe tbody tr th:only-of-type {\n",
       "        vertical-align: middle;\n",
       "    }\n",
       "\n",
       "    .dataframe tbody tr th {\n",
       "        vertical-align: top;\n",
       "    }\n",
       "\n",
       "    .dataframe thead th {\n",
       "        text-align: right;\n",
       "    }\n",
       "</style>\n",
       "<table border=\"1\" class=\"dataframe\">\n",
       "  <thead>\n",
       "    <tr style=\"text-align: right;\">\n",
       "      <th></th>\n",
       "      <th>id</th>\n",
       "      <th>gender</th>\n",
       "      <th>PPE</th>\n",
       "      <th>DFA</th>\n",
       "      <th>RPDE</th>\n",
       "      <th>numPulses</th>\n",
       "      <th>numPeriodsPulses</th>\n",
       "      <th>meanPeriodPulses</th>\n",
       "      <th>stdDevPeriodPulses</th>\n",
       "      <th>locPctJitter</th>\n",
       "      <th>...</th>\n",
       "      <th>tqwt_kurtosisValue_dec_28</th>\n",
       "      <th>tqwt_kurtosisValue_dec_29</th>\n",
       "      <th>tqwt_kurtosisValue_dec_30</th>\n",
       "      <th>tqwt_kurtosisValue_dec_31</th>\n",
       "      <th>tqwt_kurtosisValue_dec_32</th>\n",
       "      <th>tqwt_kurtosisValue_dec_33</th>\n",
       "      <th>tqwt_kurtosisValue_dec_34</th>\n",
       "      <th>tqwt_kurtosisValue_dec_35</th>\n",
       "      <th>tqwt_kurtosisValue_dec_36</th>\n",
       "      <th>class</th>\n",
       "    </tr>\n",
       "  </thead>\n",
       "  <tbody>\n",
       "    <tr>\n",
       "      <th>0</th>\n",
       "      <td>0</td>\n",
       "      <td>1</td>\n",
       "      <td>0.85247</td>\n",
       "      <td>0.71826</td>\n",
       "      <td>0.57227</td>\n",
       "      <td>240</td>\n",
       "      <td>239</td>\n",
       "      <td>0.008064</td>\n",
       "      <td>0.000087</td>\n",
       "      <td>0.00218</td>\n",
       "      <td>...</td>\n",
       "      <td>1.5620</td>\n",
       "      <td>2.6445</td>\n",
       "      <td>3.8686</td>\n",
       "      <td>4.2105</td>\n",
       "      <td>5.1221</td>\n",
       "      <td>4.4625</td>\n",
       "      <td>2.6202</td>\n",
       "      <td>3.0004</td>\n",
       "      <td>18.9405</td>\n",
       "      <td>1</td>\n",
       "    </tr>\n",
       "    <tr>\n",
       "      <th>1</th>\n",
       "      <td>0</td>\n",
       "      <td>1</td>\n",
       "      <td>0.76686</td>\n",
       "      <td>0.69481</td>\n",
       "      <td>0.53966</td>\n",
       "      <td>234</td>\n",
       "      <td>233</td>\n",
       "      <td>0.008258</td>\n",
       "      <td>0.000073</td>\n",
       "      <td>0.00195</td>\n",
       "      <td>...</td>\n",
       "      <td>1.5589</td>\n",
       "      <td>3.6107</td>\n",
       "      <td>23.5155</td>\n",
       "      <td>14.1962</td>\n",
       "      <td>11.0261</td>\n",
       "      <td>9.5082</td>\n",
       "      <td>6.5245</td>\n",
       "      <td>6.3431</td>\n",
       "      <td>45.1780</td>\n",
       "      <td>1</td>\n",
       "    </tr>\n",
       "    <tr>\n",
       "      <th>2</th>\n",
       "      <td>0</td>\n",
       "      <td>1</td>\n",
       "      <td>0.85083</td>\n",
       "      <td>0.67604</td>\n",
       "      <td>0.58982</td>\n",
       "      <td>232</td>\n",
       "      <td>231</td>\n",
       "      <td>0.008340</td>\n",
       "      <td>0.000060</td>\n",
       "      <td>0.00176</td>\n",
       "      <td>...</td>\n",
       "      <td>1.5643</td>\n",
       "      <td>2.3308</td>\n",
       "      <td>9.4959</td>\n",
       "      <td>10.7458</td>\n",
       "      <td>11.0177</td>\n",
       "      <td>4.8066</td>\n",
       "      <td>2.9199</td>\n",
       "      <td>3.1495</td>\n",
       "      <td>4.7666</td>\n",
       "      <td>1</td>\n",
       "    </tr>\n",
       "    <tr>\n",
       "      <th>3</th>\n",
       "      <td>1</td>\n",
       "      <td>0</td>\n",
       "      <td>0.41121</td>\n",
       "      <td>0.79672</td>\n",
       "      <td>0.59257</td>\n",
       "      <td>178</td>\n",
       "      <td>177</td>\n",
       "      <td>0.010858</td>\n",
       "      <td>0.000183</td>\n",
       "      <td>0.00419</td>\n",
       "      <td>...</td>\n",
       "      <td>3.7805</td>\n",
       "      <td>3.5664</td>\n",
       "      <td>5.2558</td>\n",
       "      <td>14.0403</td>\n",
       "      <td>4.2235</td>\n",
       "      <td>4.6857</td>\n",
       "      <td>4.8460</td>\n",
       "      <td>6.2650</td>\n",
       "      <td>4.0603</td>\n",
       "      <td>1</td>\n",
       "    </tr>\n",
       "    <tr>\n",
       "      <th>4</th>\n",
       "      <td>1</td>\n",
       "      <td>0</td>\n",
       "      <td>0.32790</td>\n",
       "      <td>0.79782</td>\n",
       "      <td>0.53028</td>\n",
       "      <td>236</td>\n",
       "      <td>235</td>\n",
       "      <td>0.008162</td>\n",
       "      <td>0.002669</td>\n",
       "      <td>0.00535</td>\n",
       "      <td>...</td>\n",
       "      <td>6.1727</td>\n",
       "      <td>5.8416</td>\n",
       "      <td>6.0805</td>\n",
       "      <td>5.7621</td>\n",
       "      <td>7.7817</td>\n",
       "      <td>11.6891</td>\n",
       "      <td>8.2103</td>\n",
       "      <td>5.0559</td>\n",
       "      <td>6.1164</td>\n",
       "      <td>1</td>\n",
       "    </tr>\n",
       "  </tbody>\n",
       "</table>\n",
       "<p>5 rows × 755 columns</p>\n",
       "</div>"
      ],
      "text/plain": [
       "   id  gender      PPE      DFA     RPDE  numPulses  numPeriodsPulses  \\\n",
       "0   0       1  0.85247  0.71826  0.57227        240               239   \n",
       "1   0       1  0.76686  0.69481  0.53966        234               233   \n",
       "2   0       1  0.85083  0.67604  0.58982        232               231   \n",
       "3   1       0  0.41121  0.79672  0.59257        178               177   \n",
       "4   1       0  0.32790  0.79782  0.53028        236               235   \n",
       "\n",
       "   meanPeriodPulses  stdDevPeriodPulses  locPctJitter  ...  \\\n",
       "0          0.008064            0.000087       0.00218  ...   \n",
       "1          0.008258            0.000073       0.00195  ...   \n",
       "2          0.008340            0.000060       0.00176  ...   \n",
       "3          0.010858            0.000183       0.00419  ...   \n",
       "4          0.008162            0.002669       0.00535  ...   \n",
       "\n",
       "   tqwt_kurtosisValue_dec_28  tqwt_kurtosisValue_dec_29  \\\n",
       "0                     1.5620                     2.6445   \n",
       "1                     1.5589                     3.6107   \n",
       "2                     1.5643                     2.3308   \n",
       "3                     3.7805                     3.5664   \n",
       "4                     6.1727                     5.8416   \n",
       "\n",
       "   tqwt_kurtosisValue_dec_30  tqwt_kurtosisValue_dec_31  \\\n",
       "0                     3.8686                     4.2105   \n",
       "1                    23.5155                    14.1962   \n",
       "2                     9.4959                    10.7458   \n",
       "3                     5.2558                    14.0403   \n",
       "4                     6.0805                     5.7621   \n",
       "\n",
       "   tqwt_kurtosisValue_dec_32  tqwt_kurtosisValue_dec_33  \\\n",
       "0                     5.1221                     4.4625   \n",
       "1                    11.0261                     9.5082   \n",
       "2                    11.0177                     4.8066   \n",
       "3                     4.2235                     4.6857   \n",
       "4                     7.7817                    11.6891   \n",
       "\n",
       "   tqwt_kurtosisValue_dec_34  tqwt_kurtosisValue_dec_35  \\\n",
       "0                     2.6202                     3.0004   \n",
       "1                     6.5245                     6.3431   \n",
       "2                     2.9199                     3.1495   \n",
       "3                     4.8460                     6.2650   \n",
       "4                     8.2103                     5.0559   \n",
       "\n",
       "   tqwt_kurtosisValue_dec_36  class  \n",
       "0                    18.9405      1  \n",
       "1                    45.1780      1  \n",
       "2                     4.7666      1  \n",
       "3                     4.0603      1  \n",
       "4                     6.1164      1  \n",
       "\n",
       "[5 rows x 755 columns]"
      ]
     },
     "execution_count": 45,
     "metadata": {},
     "output_type": "execute_result"
    }
   ],
   "source": [
    "import pandas as pd\n",
    "\n",
    "# Veri setini yükleme\n",
    "file_path = 'C:\\\\Yeni klasör\\\\Parkison_Dataset.csv'\n",
    "data = pd.read_csv(file_path)\n",
    "\n",
    "# Veri setinin ilk 5 satırını görüntüleme\n",
    "data.head()\n"
   ]
  },
  {
   "cell_type": "markdown",
   "id": "ba0df12f-6686-4ce0-9bea-5d31010faf76",
   "metadata": {},
   "source": [
    "Veri setinde eksik değer bulunmuyor. Şimdi, aykırı değerleri kontrol etmek için temel istatistikleri ve bazı grafik analizlerini gözden geçirelim. Özellikle, önemli özelliklerin dağılımını görmek için bir göz atabiliriz. Ancak, veri setindeki özellik sayısı fazla olduğu için tüm özellikleri analiz etmek mümkün olmayabilir. Bu nedenle, birkaç önemli özellik üzerinde odaklanabiliriz."
   ]
  },
  {
   "cell_type": "code",
   "execution_count": 49,
   "id": "755e54f8-739f-4723-a6ac-b48afbd0e537",
   "metadata": {},
   "outputs": [
    {
     "data": {
      "text/plain": [
       "Series([], dtype: int64)"
      ]
     },
     "execution_count": 49,
     "metadata": {},
     "output_type": "execute_result"
    }
   ],
   "source": [
    "# Eksik değerlerin kontrol edilmesi\n",
    "missing_values = data.isnull().sum()\n",
    "missing_values[missing_values > 0]\n"
   ]
  },
  {
   "cell_type": "markdown",
   "id": "fc23d0b2-b254-4726-9124-32132c52c558",
   "metadata": {},
   "source": [
    "Veri seti üzerindeki temel istatistikler, bazı sütunlarda geniş bir değer aralığı olduğunu gösteriyor. Bu, aykırı değerlerin varlığına işaret edebilir. Özellikle, minimum ve maksimum değerlerin büyük farklar göstermesi aykırı değerlere işaret edebilir.\n",
    "\n",
    "Aykırı Değerlerin Analizi: Aykırı değerleri belirlemek için, özelliklerin dağılımlarını görselleştirebiliriz. Ancak, özellik sayısı çok fazla olduğu için tüm özellikleri görselleştirmek pratik olmayabilir. Bunun yerine, örnek olarak birkaç önemli özellik üzerinde yoğunlaşabiliriz."
   ]
  },
  {
   "cell_type": "markdown",
   "id": "64d345cc-1537-4ad1-b828-6c563ff6585f",
   "metadata": {},
   "source": [
    "Şimdi, veri setindeki id ve class sütunlarını ayırıp kalan özellikleri ölçeklendirelim ve ardından makine öğrenimi algoritmalarını uygulayalım"
   ]
  },
  {
   "cell_type": "code",
   "execution_count": 55,
   "id": "e5817cf9-d691-45cd-9656-41bb1bf37a7c",
   "metadata": {},
   "outputs": [
    {
     "data": {
      "text/html": [
       "<div>\n",
       "<style scoped>\n",
       "    .dataframe tbody tr th:only-of-type {\n",
       "        vertical-align: middle;\n",
       "    }\n",
       "\n",
       "    .dataframe tbody tr th {\n",
       "        vertical-align: top;\n",
       "    }\n",
       "\n",
       "    .dataframe thead th {\n",
       "        text-align: right;\n",
       "    }\n",
       "</style>\n",
       "<table border=\"1\" class=\"dataframe\">\n",
       "  <thead>\n",
       "    <tr style=\"text-align: right;\">\n",
       "      <th></th>\n",
       "      <th>id</th>\n",
       "      <th>gender</th>\n",
       "      <th>PPE</th>\n",
       "      <th>DFA</th>\n",
       "      <th>RPDE</th>\n",
       "      <th>numPulses</th>\n",
       "      <th>numPeriodsPulses</th>\n",
       "      <th>meanPeriodPulses</th>\n",
       "      <th>stdDevPeriodPulses</th>\n",
       "      <th>locPctJitter</th>\n",
       "      <th>...</th>\n",
       "      <th>tqwt_kurtosisValue_dec_28</th>\n",
       "      <th>tqwt_kurtosisValue_dec_29</th>\n",
       "      <th>tqwt_kurtosisValue_dec_30</th>\n",
       "      <th>tqwt_kurtosisValue_dec_31</th>\n",
       "      <th>tqwt_kurtosisValue_dec_32</th>\n",
       "      <th>tqwt_kurtosisValue_dec_33</th>\n",
       "      <th>tqwt_kurtosisValue_dec_34</th>\n",
       "      <th>tqwt_kurtosisValue_dec_35</th>\n",
       "      <th>tqwt_kurtosisValue_dec_36</th>\n",
       "      <th>class</th>\n",
       "    </tr>\n",
       "  </thead>\n",
       "  <tbody>\n",
       "    <tr>\n",
       "      <th>count</th>\n",
       "      <td>756.000000</td>\n",
       "      <td>756.000000</td>\n",
       "      <td>756.000000</td>\n",
       "      <td>756.000000</td>\n",
       "      <td>756.000000</td>\n",
       "      <td>756.000000</td>\n",
       "      <td>756.000000</td>\n",
       "      <td>756.000000</td>\n",
       "      <td>756.000000</td>\n",
       "      <td>756.000000</td>\n",
       "      <td>...</td>\n",
       "      <td>756.000000</td>\n",
       "      <td>756.000000</td>\n",
       "      <td>756.000000</td>\n",
       "      <td>756.000000</td>\n",
       "      <td>756.000000</td>\n",
       "      <td>756.000000</td>\n",
       "      <td>756.000000</td>\n",
       "      <td>756.000000</td>\n",
       "      <td>756.000000</td>\n",
       "      <td>756.000000</td>\n",
       "    </tr>\n",
       "    <tr>\n",
       "      <th>mean</th>\n",
       "      <td>125.500000</td>\n",
       "      <td>0.515873</td>\n",
       "      <td>0.746284</td>\n",
       "      <td>0.700414</td>\n",
       "      <td>0.489058</td>\n",
       "      <td>323.972222</td>\n",
       "      <td>322.678571</td>\n",
       "      <td>0.006360</td>\n",
       "      <td>0.000383</td>\n",
       "      <td>0.002324</td>\n",
       "      <td>...</td>\n",
       "      <td>26.237251</td>\n",
       "      <td>22.840337</td>\n",
       "      <td>18.587888</td>\n",
       "      <td>13.872018</td>\n",
       "      <td>12.218953</td>\n",
       "      <td>12.375335</td>\n",
       "      <td>14.799230</td>\n",
       "      <td>14.751559</td>\n",
       "      <td>31.481110</td>\n",
       "      <td>0.746032</td>\n",
       "    </tr>\n",
       "    <tr>\n",
       "      <th>std</th>\n",
       "      <td>72.793721</td>\n",
       "      <td>0.500079</td>\n",
       "      <td>0.169294</td>\n",
       "      <td>0.069718</td>\n",
       "      <td>0.137442</td>\n",
       "      <td>99.219059</td>\n",
       "      <td>99.402499</td>\n",
       "      <td>0.001826</td>\n",
       "      <td>0.000728</td>\n",
       "      <td>0.002628</td>\n",
       "      <td>...</td>\n",
       "      <td>42.220693</td>\n",
       "      <td>32.626464</td>\n",
       "      <td>25.537464</td>\n",
       "      <td>20.046029</td>\n",
       "      <td>17.783642</td>\n",
       "      <td>16.341665</td>\n",
       "      <td>15.722502</td>\n",
       "      <td>14.432979</td>\n",
       "      <td>34.230991</td>\n",
       "      <td>0.435568</td>\n",
       "    </tr>\n",
       "    <tr>\n",
       "      <th>min</th>\n",
       "      <td>0.000000</td>\n",
       "      <td>0.000000</td>\n",
       "      <td>0.041551</td>\n",
       "      <td>0.543500</td>\n",
       "      <td>0.154300</td>\n",
       "      <td>2.000000</td>\n",
       "      <td>1.000000</td>\n",
       "      <td>0.002107</td>\n",
       "      <td>0.000011</td>\n",
       "      <td>0.000210</td>\n",
       "      <td>...</td>\n",
       "      <td>1.509800</td>\n",
       "      <td>1.531700</td>\n",
       "      <td>1.582900</td>\n",
       "      <td>1.747200</td>\n",
       "      <td>1.789500</td>\n",
       "      <td>1.628700</td>\n",
       "      <td>1.861700</td>\n",
       "      <td>1.955900</td>\n",
       "      <td>2.364000</td>\n",
       "      <td>0.000000</td>\n",
       "    </tr>\n",
       "    <tr>\n",
       "      <th>25%</th>\n",
       "      <td>62.750000</td>\n",
       "      <td>0.000000</td>\n",
       "      <td>0.762833</td>\n",
       "      <td>0.647053</td>\n",
       "      <td>0.386537</td>\n",
       "      <td>251.000000</td>\n",
       "      <td>250.000000</td>\n",
       "      <td>0.005003</td>\n",
       "      <td>0.000049</td>\n",
       "      <td>0.000970</td>\n",
       "      <td>...</td>\n",
       "      <td>2.408675</td>\n",
       "      <td>3.452800</td>\n",
       "      <td>3.354825</td>\n",
       "      <td>3.077450</td>\n",
       "      <td>2.937025</td>\n",
       "      <td>3.114375</td>\n",
       "      <td>3.665925</td>\n",
       "      <td>3.741275</td>\n",
       "      <td>3.948750</td>\n",
       "      <td>0.000000</td>\n",
       "    </tr>\n",
       "    <tr>\n",
       "      <th>50%</th>\n",
       "      <td>125.500000</td>\n",
       "      <td>1.000000</td>\n",
       "      <td>0.809655</td>\n",
       "      <td>0.700525</td>\n",
       "      <td>0.484355</td>\n",
       "      <td>317.000000</td>\n",
       "      <td>316.000000</td>\n",
       "      <td>0.006048</td>\n",
       "      <td>0.000077</td>\n",
       "      <td>0.001495</td>\n",
       "      <td>...</td>\n",
       "      <td>5.586300</td>\n",
       "      <td>7.062750</td>\n",
       "      <td>6.077400</td>\n",
       "      <td>4.770850</td>\n",
       "      <td>4.300450</td>\n",
       "      <td>4.741450</td>\n",
       "      <td>6.725700</td>\n",
       "      <td>7.334250</td>\n",
       "      <td>10.637250</td>\n",
       "      <td>1.000000</td>\n",
       "    </tr>\n",
       "    <tr>\n",
       "      <th>75%</th>\n",
       "      <td>188.250000</td>\n",
       "      <td>1.000000</td>\n",
       "      <td>0.834315</td>\n",
       "      <td>0.754985</td>\n",
       "      <td>0.586515</td>\n",
       "      <td>384.250000</td>\n",
       "      <td>383.250000</td>\n",
       "      <td>0.007528</td>\n",
       "      <td>0.000171</td>\n",
       "      <td>0.002520</td>\n",
       "      <td>...</td>\n",
       "      <td>28.958075</td>\n",
       "      <td>29.830850</td>\n",
       "      <td>21.944050</td>\n",
       "      <td>13.188000</td>\n",
       "      <td>10.876150</td>\n",
       "      <td>12.201325</td>\n",
       "      <td>21.922050</td>\n",
       "      <td>22.495175</td>\n",
       "      <td>61.125325</td>\n",
       "      <td>1.000000</td>\n",
       "    </tr>\n",
       "    <tr>\n",
       "      <th>max</th>\n",
       "      <td>251.000000</td>\n",
       "      <td>1.000000</td>\n",
       "      <td>0.907660</td>\n",
       "      <td>0.852640</td>\n",
       "      <td>0.871230</td>\n",
       "      <td>907.000000</td>\n",
       "      <td>905.000000</td>\n",
       "      <td>0.012966</td>\n",
       "      <td>0.003483</td>\n",
       "      <td>0.027750</td>\n",
       "      <td>...</td>\n",
       "      <td>239.788800</td>\n",
       "      <td>203.311300</td>\n",
       "      <td>121.542900</td>\n",
       "      <td>102.207000</td>\n",
       "      <td>85.571700</td>\n",
       "      <td>73.532200</td>\n",
       "      <td>62.007300</td>\n",
       "      <td>57.544300</td>\n",
       "      <td>156.423700</td>\n",
       "      <td>1.000000</td>\n",
       "    </tr>\n",
       "  </tbody>\n",
       "</table>\n",
       "<p>8 rows × 755 columns</p>\n",
       "</div>"
      ],
      "text/plain": [
       "               id      gender         PPE         DFA        RPDE   numPulses  \\\n",
       "count  756.000000  756.000000  756.000000  756.000000  756.000000  756.000000   \n",
       "mean   125.500000    0.515873    0.746284    0.700414    0.489058  323.972222   \n",
       "std     72.793721    0.500079    0.169294    0.069718    0.137442   99.219059   \n",
       "min      0.000000    0.000000    0.041551    0.543500    0.154300    2.000000   \n",
       "25%     62.750000    0.000000    0.762833    0.647053    0.386537  251.000000   \n",
       "50%    125.500000    1.000000    0.809655    0.700525    0.484355  317.000000   \n",
       "75%    188.250000    1.000000    0.834315    0.754985    0.586515  384.250000   \n",
       "max    251.000000    1.000000    0.907660    0.852640    0.871230  907.000000   \n",
       "\n",
       "       numPeriodsPulses  meanPeriodPulses  stdDevPeriodPulses  locPctJitter  \\\n",
       "count        756.000000        756.000000          756.000000    756.000000   \n",
       "mean         322.678571          0.006360            0.000383      0.002324   \n",
       "std           99.402499          0.001826            0.000728      0.002628   \n",
       "min            1.000000          0.002107            0.000011      0.000210   \n",
       "25%          250.000000          0.005003            0.000049      0.000970   \n",
       "50%          316.000000          0.006048            0.000077      0.001495   \n",
       "75%          383.250000          0.007528            0.000171      0.002520   \n",
       "max          905.000000          0.012966            0.003483      0.027750   \n",
       "\n",
       "       ...  tqwt_kurtosisValue_dec_28  tqwt_kurtosisValue_dec_29  \\\n",
       "count  ...                 756.000000                 756.000000   \n",
       "mean   ...                  26.237251                  22.840337   \n",
       "std    ...                  42.220693                  32.626464   \n",
       "min    ...                   1.509800                   1.531700   \n",
       "25%    ...                   2.408675                   3.452800   \n",
       "50%    ...                   5.586300                   7.062750   \n",
       "75%    ...                  28.958075                  29.830850   \n",
       "max    ...                 239.788800                 203.311300   \n",
       "\n",
       "       tqwt_kurtosisValue_dec_30  tqwt_kurtosisValue_dec_31  \\\n",
       "count                 756.000000                 756.000000   \n",
       "mean                   18.587888                  13.872018   \n",
       "std                    25.537464                  20.046029   \n",
       "min                     1.582900                   1.747200   \n",
       "25%                     3.354825                   3.077450   \n",
       "50%                     6.077400                   4.770850   \n",
       "75%                    21.944050                  13.188000   \n",
       "max                   121.542900                 102.207000   \n",
       "\n",
       "       tqwt_kurtosisValue_dec_32  tqwt_kurtosisValue_dec_33  \\\n",
       "count                 756.000000                 756.000000   \n",
       "mean                   12.218953                  12.375335   \n",
       "std                    17.783642                  16.341665   \n",
       "min                     1.789500                   1.628700   \n",
       "25%                     2.937025                   3.114375   \n",
       "50%                     4.300450                   4.741450   \n",
       "75%                    10.876150                  12.201325   \n",
       "max                    85.571700                  73.532200   \n",
       "\n",
       "       tqwt_kurtosisValue_dec_34  tqwt_kurtosisValue_dec_35  \\\n",
       "count                 756.000000                 756.000000   \n",
       "mean                   14.799230                  14.751559   \n",
       "std                    15.722502                  14.432979   \n",
       "min                     1.861700                   1.955900   \n",
       "25%                     3.665925                   3.741275   \n",
       "50%                     6.725700                   7.334250   \n",
       "75%                    21.922050                  22.495175   \n",
       "max                    62.007300                  57.544300   \n",
       "\n",
       "       tqwt_kurtosisValue_dec_36       class  \n",
       "count                 756.000000  756.000000  \n",
       "mean                   31.481110    0.746032  \n",
       "std                    34.230991    0.435568  \n",
       "min                     2.364000    0.000000  \n",
       "25%                     3.948750    0.000000  \n",
       "50%                    10.637250    1.000000  \n",
       "75%                    61.125325    1.000000  \n",
       "max                   156.423700    1.000000  \n",
       "\n",
       "[8 rows x 755 columns]"
      ]
     },
     "execution_count": 55,
     "metadata": {},
     "output_type": "execute_result"
    }
   ],
   "source": [
    "# Temel istatistiksel özet\n",
    "data.describe()\n"
   ]
  },
  {
   "cell_type": "code",
   "execution_count": 58,
   "id": "5e95438f-83a5-4dfe-9831-5d4367d03cad",
   "metadata": {},
   "outputs": [
    {
     "data": {
      "text/plain": [
       "(array([[-1.04055688,  0.47126094,  0.56016794, ..., -0.73448598,\n",
       "         -0.39539864, -0.61971077],\n",
       "        [ 0.96102387,  0.41159886,  0.32989777, ..., -0.4423655 ,\n",
       "         -0.61720284, -0.83269257],\n",
       "        [-1.04055688,  0.51431667,  0.66609222, ...,  1.08284854,\n",
       "          1.91358583,  1.78676432],\n",
       "        [ 0.96102387,  0.14263642,  0.79043811, ...,  0.49790921,\n",
       "          0.61794832,  1.36832658],\n",
       "        [-1.04055688,  0.71045273,  0.9589671 , ..., -0.61739527,\n",
       "         -0.70568864,  0.58679424]]),\n",
       " array([[-1.04055688,  0.13049869,  1.25875008, ..., -0.68330204,\n",
       "         -0.80434971, -0.83448388],\n",
       "        [ 0.96102387,  0.12023295,  1.72173705, ..., -0.66740468,\n",
       "         -0.59548443,  0.51909367],\n",
       "        [ 0.96102387, -1.08816564,  1.1757089 , ..., -0.73520974,\n",
       "         -0.79160619, -0.6770006 ],\n",
       "        [-1.04055688,  0.45423188,  0.55009362, ..., -0.5899304 ,\n",
       "         -0.53430717, -0.76218042],\n",
       "        [-1.04055688,  0.35797546,  0.12769177, ..., -0.72798482,\n",
       "         -0.83112785, -0.83005983]]))"
      ]
     },
     "execution_count": 58,
     "metadata": {},
     "output_type": "execute_result"
    }
   ],
   "source": [
    "from sklearn.model_selection import train_test_split\r\n",
    "from sklearn.preprocessing import StandardScaler\r\n",
    "\r\n",
    "# Özelliklerin ve hedef değişkenin ayrılması\r\n",
    "X = data.drop(columns=['id', 'class'])\r\n",
    "y = data['class']\r\n",
    "\r\n",
    "# Eğitim ve test setlerine ayırma\r\n",
    "X_train, X_test, y_train, y_test = train_test_split(X, y, test_size=0.2, random_state=42)\r\n",
    "\r\n",
    "# Özelliklerin ölçeklendirilmesi\r\n",
    "scaler = StandardScaler()\r\n",
    "X_train = scaler.fit_transform(X_train)\r\n",
    "X_test = scaler.transform(X_test)\r\n",
    "\r\n",
    "X_train[:5], X_test[:5]\r\n"
   ]
  },
  {
   "cell_type": "markdown",
   "id": "ad81ba3b-be19-4f28-a4c0-05e6033f41e9",
   "metadata": {},
   "source": [
    "Veri ön işleme adımlarını tamamladıktan sonra artık algoritmalarımızı yazmaya başlayabiliriz."
   ]
  },
  {
   "cell_type": "markdown",
   "id": "bcd2832a-52ad-413d-a57d-d7155362cc9f",
   "metadata": {},
   "source": [
    "***Gerekli Kütüphanelerin İmport Edilmesi***"
   ]
  },
  {
   "cell_type": "markdown",
   "id": "bc2d4249-b91d-4288-89c7-30bfdb77bef8",
   "metadata": {},
   "source": [
    "Bu bölüm, veri işleme, model oluşturma ve değerlendirme için gerekli olan kütüphaneleri içe aktarır. pandas veri manipülasyonu için, scikit-learn ise makine öğrenimi algoritmaları ve veri ön işleme için kullanılır."
   ]
  },
  {
   "cell_type": "code",
   "execution_count": 4,
   "id": "95d64c7f-968a-4a93-b91c-61875974b8ca",
   "metadata": {},
   "outputs": [],
   "source": [
    "import pandas as pd\n",
    "from sklearn.model_selection import train_test_split\n",
    "from sklearn.preprocessing import StandardScaler\n",
    "from sklearn.metrics import classification_report\n",
    "from sklearn.neighbors import KNeighborsClassifier\n",
    "from sklearn.linear_model import LogisticRegression\n",
    "from sklearn.ensemble import RandomForestClassifier\n",
    "from sklearn.naive_bayes import GaussianNB\n",
    "from sklearn.tree import DecisionTreeClassifier\n",
    "from sklearn.svm import SVC\n",
    "from sklearn.ensemble import VotingClassifier\n"
   ]
  },
  {
   "cell_type": "markdown",
   "id": "9f6b0a97-2c30-4f60-97dd-8d757ea68c6f",
   "metadata": {},
   "source": [
    "***Veri Setinin Yüklenmesi***"
   ]
  },
  {
   "cell_type": "markdown",
   "id": "1403e38c-cad7-417a-82f3-e30e184ab9e7",
   "metadata": {},
   "source": [
    "Bu bölümde, Parkinson veri seti belirtilen dosya yolundan okunur ve bir pandas DataFrame'ine yüklenir."
   ]
  },
  {
   "cell_type": "code",
   "execution_count": 11,
   "id": "3d2840d7-6b3f-4fc0-83d1-2ae2237ddf65",
   "metadata": {},
   "outputs": [],
   "source": [
    "file_path = 'C:\\\\Yeni klasör\\\\Parkison_Dataset.csv'\n",
    "data = pd.read_csv(file_path)\n"
   ]
  },
  {
   "cell_type": "markdown",
   "id": "39bd5bb4-79d6-4544-b6c9-93359fa67e9b",
   "metadata": {},
   "source": [
    "***Özelliklerin ve Hedef Değişkenin Ayrılması***"
   ]
  },
  {
   "cell_type": "markdown",
   "id": "68f16b4f-26e1-4afb-8598-8b09917af81d",
   "metadata": {},
   "source": [
    "Veri setinden 'id' ve 'class' sütunları ayrılır. 'id' sütunu çıkarılırken, 'class' hedef değişken olarak belirlenir."
   ]
  },
  {
   "cell_type": "code",
   "execution_count": 15,
   "id": "f958f4e3-60ac-43a4-934e-abd02f4e69b9",
   "metadata": {},
   "outputs": [],
   "source": [
    "X = data.drop(columns=['id', 'class'])\n",
    "y = data['class']\n"
   ]
  },
  {
   "cell_type": "markdown",
   "id": "5bc643b2-c0d8-4628-acc3-232d13315fa5",
   "metadata": {},
   "source": [
    "***Veri Setinin Eğitim ve Test Olarak Bölünmesi***"
   ]
  },
  {
   "cell_type": "markdown",
   "id": "0645068b-abed-48b6-8540-36349b89cb84",
   "metadata": {},
   "source": [
    "Veri seti %80 eğitim, %20 test olmak üzere ikiye bölünür. random_state parametresi, sonuçların tekrarlanabilirliğini sağlar."
   ]
  },
  {
   "cell_type": "code",
   "execution_count": 19,
   "id": "71be8aeb-97c3-49d0-a3dd-5e4d07404ff8",
   "metadata": {},
   "outputs": [],
   "source": [
    "X_train, X_test, y_train, y_test = train_test_split(X, y, test_size=0.2, random_state=42)\n"
   ]
  },
  {
   "cell_type": "markdown",
   "id": "60598eaf-4866-4ff3-b53d-c91557c92903",
   "metadata": {},
   "source": [
    "***Verilerin Ölçeklendirilmesi***"
   ]
  },
  {
   "cell_type": "markdown",
   "id": "c6504e9d-65e0-4abb-be21-bc260c2cfeec",
   "metadata": {},
   "source": [
    "Özellikler, StandardScaler kullanılarak standartlaştırılır. Bu, model performansını artırmak için önemlidir."
   ]
  },
  {
   "cell_type": "code",
   "execution_count": 23,
   "id": "ff8cd3e8-0d8c-4bf5-8e54-c89ae5652bcf",
   "metadata": {},
   "outputs": [],
   "source": [
    "scaler = StandardScaler()\n",
    "X_train = scaler.fit_transform(X_train)\n",
    "X_test = scaler.transform(X_test)\n"
   ]
  },
  {
   "cell_type": "markdown",
   "id": "3d83fb41-8f55-495a-aea1-b4903bb08c73",
   "metadata": {},
   "source": [
    "***Farklı Modellerin Tanımlanması***"
   ]
  },
  {
   "cell_type": "markdown",
   "id": "a8dbf826-963f-4e74-9b7f-07895e541826",
   "metadata": {},
   "source": [
    "Çeşitli makine öğrenimi modelleri bir sözlükte tanımlanır. Her bir modelin adı, modeli oluşturmak için kullanılır."
   ]
  },
  {
   "cell_type": "code",
   "execution_count": 27,
   "id": "7e6f4695-7c02-4369-bcb4-3ba2055d4856",
   "metadata": {},
   "outputs": [],
   "source": [
    "models = {\n",
    "    \"KNN\": KNeighborsClassifier(),\n",
    "    \"Logistic Regression\": LogisticRegression(max_iter=1000),\n",
    "    \"Random Forest\": RandomForestClassifier(),\n",
    "    \"GaussianNB\": GaussianNB(),\n",
    "    \"Decision Tree\": DecisionTreeClassifier(),\n",
    "    \"SVC\": SVC()\n",
    "}\n"
   ]
  },
  {
   "cell_type": "markdown",
   "id": "00981f76-6b94-4be2-86c9-91bf5e9a86a8",
   "metadata": {},
   "source": [
    "***Modellerin Eğitilmesi ve Değerlendirilmesi***"
   ]
  },
  {
   "cell_type": "markdown",
   "id": "860db2d7-5b09-49b5-b12b-bbe6c0510732",
   "metadata": {},
   "source": [
    "Bu döngü, her bir modeli eğitim verileri üzerinde eğitir ve test verileri üzerinde tahminler yapar. Sonuçlar classification_report ile değerlendirilir ve bir sözlükte saklanır."
   ]
  },
  {
   "cell_type": "code",
   "execution_count": 31,
   "id": "7405e986-1d6d-4174-a1e8-4bc998783452",
   "metadata": {},
   "outputs": [],
   "source": [
    "results = {}\n",
    "\n",
    "for model_name, model in models.items():\n",
    "    model.fit(X_train, y_train)\n",
    "    y_pred = model.predict(X_test)\n",
    "    results[model_name] = classification_report(y_test, y_pred, output_dict=True)\n"
   ]
  },
  {
   "cell_type": "markdown",
   "id": "57efb933-938f-4a0b-b41b-c266665383a7",
   "metadata": {},
   "source": [
    "***Oylama Sınıflandırıcısı (Voting Classifier)***"
   ]
  },
  {
   "cell_type": "markdown",
   "id": "ccfdcf10-6455-44a8-92a1-fc28402f8efd",
   "metadata": {},
   "source": [
    "Bu bölümde, bir oylama sınıflandırıcısı oluşturulur ve farklı modeller birleştirilir. 'Hard' oylama yöntemi, her modelin tahminlerinin çoğunluğuna göre karar verir. Sonuçlar yine classification_report ile değerlendirilir ve sonuçlar sözlüğüne eklenir."
   ]
  },
  {
   "cell_type": "code",
   "execution_count": 35,
   "id": "6a892247-701a-45a4-8de6-392c08b4db2c",
   "metadata": {},
   "outputs": [],
   "source": [
    "voting_clf = VotingClassifier(estimators=[\n",
    "    ('knn', KNeighborsClassifier()),\n",
    "    ('lr', LogisticRegression(max_iter=1000)),\n",
    "    ('rf', RandomForestClassifier()),\n",
    "    ('gnb', GaussianNB()),\n",
    "    ('dt', DecisionTreeClassifier()),\n",
    "    ('svc', SVC())\n",
    "], voting='hard')\n",
    "\n",
    "voting_clf.fit(X_train, y_train)\n",
    "\n",
    "y_pred_voting = voting_clf.predict(X_test)\n",
    "\n",
    "voting_results = classification_report(y_test, y_pred_voting, output_dict=True)\n",
    "results[\"Voting Classifier\"] = voting_results\n"
   ]
  },
  {
   "cell_type": "markdown",
   "id": "54149c39-26b8-4a71-89d3-b6de739e6a8e",
   "metadata": {},
   "source": [
    "***Sonuçların Görüntülenmesi***"
   ]
  },
  {
   "cell_type": "markdown",
   "id": "507c2551-964f-4d5e-81fa-a667c153b661",
   "metadata": {},
   "source": [
    "Tüm modellerin sonuçları bir sözlükte saklanır ve çıktı olarak verilir."
   ]
  },
  {
   "cell_type": "code",
   "execution_count": 38,
   "id": "0c5991b5-d06f-48c3-8d8b-9b7a7ccae5a6",
   "metadata": {},
   "outputs": [
    {
     "data": {
      "text/plain": [
       "{'KNN': {'0': {'precision': 1.0,\n",
       "   'recall': 0.5789473684210527,\n",
       "   'f1-score': 0.7333333333333334,\n",
       "   'support': 38},\n",
       "  '1': {'precision': 0.8769230769230769,\n",
       "   'recall': 1.0,\n",
       "   'f1-score': 0.9344262295081968,\n",
       "   'support': 114},\n",
       "  'accuracy': 0.8947368421052632,\n",
       "  'macro avg': {'precision': 0.9384615384615385,\n",
       "   'recall': 0.7894736842105263,\n",
       "   'f1-score': 0.833879781420765,\n",
       "   'support': 152},\n",
       "  'weighted avg': {'precision': 0.9076923076923077,\n",
       "   'recall': 0.8947368421052632,\n",
       "   'f1-score': 0.8841530054644808,\n",
       "   'support': 152}},\n",
       " 'Logistic Regression': {'0': {'precision': 0.7575757575757576,\n",
       "   'recall': 0.6578947368421053,\n",
       "   'f1-score': 0.704225352112676,\n",
       "   'support': 38},\n",
       "  '1': {'precision': 0.8907563025210085,\n",
       "   'recall': 0.9298245614035088,\n",
       "   'f1-score': 0.9098712446351931,\n",
       "   'support': 114},\n",
       "  'accuracy': 0.8618421052631579,\n",
       "  'macro avg': {'precision': 0.8241660300483831,\n",
       "   'recall': 0.793859649122807,\n",
       "   'f1-score': 0.8070482983739345,\n",
       "   'support': 152},\n",
       "  'weighted avg': {'precision': 0.8574611662846958,\n",
       "   'recall': 0.8618421052631579,\n",
       "   'f1-score': 0.8584597715045638,\n",
       "   'support': 152}},\n",
       " 'Random Forest': {'0': {'precision': 0.88,\n",
       "   'recall': 0.5789473684210527,\n",
       "   'f1-score': 0.6984126984126985,\n",
       "   'support': 38},\n",
       "  '1': {'precision': 0.8740157480314961,\n",
       "   'recall': 0.9736842105263158,\n",
       "   'f1-score': 0.9211618257261411,\n",
       "   'support': 114},\n",
       "  'accuracy': 0.875,\n",
       "  'macro avg': {'precision': 0.8770078740157481,\n",
       "   'recall': 0.7763157894736843,\n",
       "   'f1-score': 0.8097872620694198,\n",
       "   'support': 152},\n",
       "  'weighted avg': {'precision': 0.875511811023622,\n",
       "   'recall': 0.875,\n",
       "   'f1-score': 0.8654745438977804,\n",
       "   'support': 152}},\n",
       " 'GaussianNB': {'0': {'precision': 0.6,\n",
       "   'recall': 0.631578947368421,\n",
       "   'f1-score': 0.6153846153846154,\n",
       "   'support': 38},\n",
       "  '1': {'precision': 0.875,\n",
       "   'recall': 0.8596491228070176,\n",
       "   'f1-score': 0.8672566371681416,\n",
       "   'support': 114},\n",
       "  'accuracy': 0.8026315789473685,\n",
       "  'macro avg': {'precision': 0.7375,\n",
       "   'recall': 0.7456140350877193,\n",
       "   'f1-score': 0.7413206262763785,\n",
       "   'support': 152},\n",
       "  'weighted avg': {'precision': 0.80625,\n",
       "   'recall': 0.8026315789473685,\n",
       "   'f1-score': 0.8042886317222601,\n",
       "   'support': 152}},\n",
       " 'Decision Tree': {'0': {'precision': 0.5,\n",
       "   'recall': 0.5789473684210527,\n",
       "   'f1-score': 0.5365853658536586,\n",
       "   'support': 38},\n",
       "  '1': {'precision': 0.8518518518518519,\n",
       "   'recall': 0.8070175438596491,\n",
       "   'f1-score': 0.8288288288288288,\n",
       "   'support': 114},\n",
       "  'accuracy': 0.75,\n",
       "  'macro avg': {'precision': 0.6759259259259259,\n",
       "   'recall': 0.6929824561403508,\n",
       "   'f1-score': 0.6827070973412437,\n",
       "   'support': 152},\n",
       "  'weighted avg': {'precision': 0.763888888888889,\n",
       "   'recall': 0.75,\n",
       "   'f1-score': 0.7557679630850362,\n",
       "   'support': 152}},\n",
       " 'SVC': {'0': {'precision': 0.9444444444444444,\n",
       "   'recall': 0.4473684210526316,\n",
       "   'f1-score': 0.6071428571428572,\n",
       "   'support': 38},\n",
       "  '1': {'precision': 0.8432835820895522,\n",
       "   'recall': 0.9912280701754386,\n",
       "   'f1-score': 0.911290322580645,\n",
       "   'support': 114},\n",
       "  'accuracy': 0.8552631578947368,\n",
       "  'macro avg': {'precision': 0.8938640132669984,\n",
       "   'recall': 0.7192982456140351,\n",
       "   'f1-score': 0.7592165898617511,\n",
       "   'support': 152},\n",
       "  'weighted avg': {'precision': 0.8685737976782754,\n",
       "   'recall': 0.8552631578947368,\n",
       "   'f1-score': 0.8352534562211981,\n",
       "   'support': 152}},\n",
       " 'Voting Classifier': {'0': {'precision': 0.88,\n",
       "   'recall': 0.5789473684210527,\n",
       "   'f1-score': 0.6984126984126985,\n",
       "   'support': 38},\n",
       "  '1': {'precision': 0.8740157480314961,\n",
       "   'recall': 0.9736842105263158,\n",
       "   'f1-score': 0.9211618257261411,\n",
       "   'support': 114},\n",
       "  'accuracy': 0.875,\n",
       "  'macro avg': {'precision': 0.8770078740157481,\n",
       "   'recall': 0.7763157894736843,\n",
       "   'f1-score': 0.8097872620694198,\n",
       "   'support': 152},\n",
       "  'weighted avg': {'precision': 0.875511811023622,\n",
       "   'recall': 0.875,\n",
       "   'f1-score': 0.8654745438977804,\n",
       "   'support': 152}}}"
      ]
     },
     "execution_count": 38,
     "metadata": {},
     "output_type": "execute_result"
    }
   ],
   "source": [
    "results\n"
   ]
  },
  {
   "cell_type": "markdown",
   "id": "80fa3fc6-5012-494e-9f09-7db9d779d23b",
   "metadata": {},
   "source": [
    "***Gerekli Kütüphanelerin İmport Edilmesi***"
   ]
  },
  {
   "cell_type": "markdown",
   "id": "37c1c191-78a8-441d-93b6-1f0c6e9f388e",
   "metadata": {},
   "source": [
    "Bu satır, veri işleme ve analiz işlemleri için gerekli olan pandas kütüphanesini içe aktarır."
   ]
  },
  {
   "cell_type": "code",
   "execution_count": 66,
   "id": "dbcd134e-d78a-4e63-8282-e90bf807de50",
   "metadata": {},
   "outputs": [],
   "source": [
    "import pandas as pd\n"
   ]
  },
  {
   "cell_type": "markdown",
   "id": "f662e631-4f0f-4b9d-9db7-ad2f79e837b1",
   "metadata": {},
   "source": [
    "***Modellerin Doğruluk Sonuçları***"
   ]
  },
  {
   "cell_type": "markdown",
   "id": "2f7d0df1-8955-4337-807c-4af618e35318",
   "metadata": {},
   "source": [
    "Bu sözlük, çeşitli makine öğrenimi modellerinin doğruluk değerlerini içerir. Her bir modelin adı ve karşılık gelen doğruluk değeri belirtilmiştir."
   ]
  },
  {
   "cell_type": "code",
   "execution_count": 72,
   "id": "1cf677e3-9283-4ed9-abde-f9945cfaee71",
   "metadata": {},
   "outputs": [],
   "source": [
    "accuracy_results = {\n",
    "    \"KNN\": 0.89,\n",
    "    \"Logistic Regression\": 0.86,\n",
    "    \"Random Forest\": 0.85,\n",
    "    \"GaussianNB\": 0.80,\n",
    "    \"Decision Tree\": 0.78,\n",
    "    \"SVC\": 0.86,\n",
    "    \"Voting Classifier\": 0.88\n",
    "}\n"
   ]
  },
  {
   "cell_type": "markdown",
   "id": "c893e958-b6c9-436b-bd8b-43ae13be1605",
   "metadata": {},
   "source": [
    "***Doğruluk Sonuçlarının DataFrame'e Dönüştürülmesi***"
   ]
  },
  {
   "cell_type": "markdown",
   "id": "f4a5e290-8d70-4d54-9892-e2278c749147",
   "metadata": {},
   "source": [
    "Bu satır, doğruluk sonuçlarını \"Model\" ve \"Accuracy\" sütunlarına sahip bir pandas DataFrame'e dönüştürür. Bu yapı, verilerin daha kolay işlenmesi ve görselleştirilmesi için kullanılır."
   ]
  },
  {
   "cell_type": "code",
   "execution_count": 76,
   "id": "0da0cc18-63ac-40a2-9374-3d23ae942c2b",
   "metadata": {},
   "outputs": [],
   "source": [
    "accuracy_df = pd.DataFrame(list(accuracy_results.items()), columns=['Model', 'Accuracy'])\n"
   ]
  },
  {
   "cell_type": "markdown",
   "id": "0d0aab2c-ff5a-42e0-a599-01159980ef99",
   "metadata": {},
   "source": [
    "***Doğruluk Sonuçlarının Görüntülenmesi***"
   ]
  },
  {
   "cell_type": "markdown",
   "id": "400fd0eb-67f8-480a-8e8d-a781b6acc4b4",
   "metadata": {},
   "source": [
    "Oluşturulan DataFrame, ekrana yazdırılarak her modelin doğruluk değerleri görüntülenir."
   ]
  },
  {
   "cell_type": "code",
   "execution_count": 80,
   "id": "b4f045fe-ea82-4137-a5a5-417a4d7b583e",
   "metadata": {},
   "outputs": [
    {
     "name": "stdout",
     "output_type": "stream",
     "text": [
      "                 Model  Accuracy\n",
      "0                  KNN      0.89\n",
      "1  Logistic Regression      0.86\n",
      "2        Random Forest      0.85\n",
      "3           GaussianNB      0.80\n",
      "4        Decision Tree      0.78\n",
      "5                  SVC      0.86\n",
      "6    Voting Classifier      0.88\n"
     ]
    }
   ],
   "source": [
    "print(accuracy_df)\n"
   ]
  },
  {
   "cell_type": "markdown",
   "id": "acbf7205-0460-459b-8ab0-4fc47864f566",
   "metadata": {},
   "source": [
    "***Gerekli Kütüphanelerin İmport Edilmesi***"
   ]
  },
  {
   "cell_type": "markdown",
   "id": "c7144f92-a0e8-40b5-a106-75458177e253",
   "metadata": {},
   "source": [
    "Bu satırlar, veri işleme için pandas ve veri görselleştirme için matplotlib.pyplot kütüphanelerini içe aktarır. Pandas, veri manipülasyonu ve analizi için güçlü araçlar sunarken, matplotlib veri görselleştirme için kullanılır."
   ]
  },
  {
   "cell_type": "code",
   "execution_count": 84,
   "id": "aed1d543-d22c-4cef-90e9-0a9c6ebf1606",
   "metadata": {},
   "outputs": [],
   "source": [
    "import pandas as pd\n",
    "import matplotlib.pyplot as plt\n"
   ]
  },
  {
   "cell_type": "markdown",
   "id": "9c96f934-3cea-46db-989c-0007997130dd",
   "metadata": {},
   "source": [
    "***Modellerin Doğruluk Sonuçları***"
   ]
  },
  {
   "cell_type": "markdown",
   "id": "1569b1e2-3a68-464b-a58b-32be8f3e68d9",
   "metadata": {},
   "source": [
    "Bu sözlük, çeşitli makine öğrenimi modellerinin doğruluk değerlerini içerir. Her bir modelin adı ve karşılık gelen doğruluk değeri belirtilmiştir."
   ]
  },
  {
   "cell_type": "code",
   "execution_count": 90,
   "id": "fa6f54c2-88f0-4dca-8bda-f60602bd1848",
   "metadata": {},
   "outputs": [],
   "source": [
    "accuracy_results = {\n",
    "    \"KNN\": 0.89,\n",
    "    \"Logistic Regression\": 0.86,\n",
    "    \"Random Forest\": 0.85,\n",
    "    \"GaussianNB\": 0.80,\n",
    "    \"Decision Tree\": 0.78,\n",
    "    \"SVC\": 0.86,\n",
    "    \"Voting Classifier\": 0.88\n",
    "}\n"
   ]
  },
  {
   "cell_type": "markdown",
   "id": "1ed3257f-9ede-4efc-87db-9d2dece496b2",
   "metadata": {},
   "source": [
    "***Doğruluk Sonuçlarının DataFrame'e Dönüştürülmesi***"
   ]
  },
  {
   "cell_type": "markdown",
   "id": "a4bfc42d-349d-4a62-a9be-d0ccccf736b6",
   "metadata": {},
   "source": [
    "Bu satır, doğruluk sonuçlarını \"Model\" ve \"Accuracy\" sütunlarına sahip bir pandas DataFrame'e dönüştürür. Bu yapı, verilerin daha kolay işlenmesi ve görselleştirilmesi için kullanılır."
   ]
  },
  {
   "cell_type": "code",
   "execution_count": 94,
   "id": "1595cd11-5371-4b0f-b680-f126034f27ea",
   "metadata": {},
   "outputs": [],
   "source": [
    "accuracy_df = pd.DataFrame(list(accuracy_results.items()), columns=['Model', 'Accuracy'])\n"
   ]
  },
  {
   "cell_type": "markdown",
   "id": "9d0c0b31-1f21-44ac-bb4b-ba0594024c0e",
   "metadata": {},
   "source": [
    "***Doğruluk Sonuçlarının Görselleştirilmesi***"
   ]
  },
  {
   "cell_type": "markdown",
   "id": "f4447d98-9fa7-4ec9-a08f-f0c6da204aa5",
   "metadata": {},
   "source": [
    "Bu bölüm, doğruluk oranlarını bir bar grafiği ile görselleştirir:\n",
    "\n",
    "Figure Ayarları: plt.figure(figsize=(10, 6)) satırı, grafik boyutunu belirler.\n",
    "Bar Grafiği: plt.bar() fonksiyonu, modellerin doğruluk oranlarını gösteren barlar çizer. color='skyblue' barların rengini belirler.\n",
    "Eksen Etiketleri ve Başlık: plt.xlabel(), plt.ylabel(), ve plt.title() fonksiyonları sırasıyla x ekseni, y ekseni etiketlerini ve grafiğin başlığını ayarlar.\n",
    "X Eksenindeki Etiketlerin Döndürülmesi: plt.xticks(rotation=45, ha='right') x eksenindeki model isimlerini 45 derece döndürür ve sağa hizalar, bu da okunabilirliği artırır.\n",
    "Y Ekseninin Sınırları ve Izgara Çizgileri: plt.ylim(0, 1) y eksenini 0 ile 1 arasında sınırlar. plt.grid(axis='y', linestyle='--', alpha=0.7) y eksenine yatay ızgara çizgileri ekler, bu da verilerin daha iyi anlaşılmasına yardımcı olur.\n",
    "Grafiği Gösterme: plt.show() fonksiyonu, grafiği ekranda görüntüler."
   ]
  },
  {
   "cell_type": "code",
   "execution_count": 99,
   "id": "ce341ba3-7e6d-4991-b892-cf3646d384cc",
   "metadata": {},
   "outputs": [
    {
     "data": {
      "image/png": "[encoded data removed]",
      "text/plain": [
       "<Figure size 1000x600 with 1 Axes>"
      ]
     },
     "metadata": {},
     "output_type": "display_data"
    }
   ],
   "source": [
    "plt.figure(figsize=(10, 6))\n",
    "plt.bar(accuracy_df['Model'], accuracy_df['Accuracy'], color='skyblue')\n",
    "plt.xlabel('Model')\n",
    "plt.ylabel('Doğruluk Oranı')\n",
    "plt.title('Model Doğruluk Oranları Karşılaştırması')\n",
    "plt.xticks(rotation=45, ha='right')\n",
    "plt.ylim(0, 1)\n",
    "plt.grid(axis='y', linestyle='--', alpha=0.7)\n",
    "plt.show()\n"
   ]
  },
  {
   "cell_type": "markdown",
   "id": "c45f93b2-bc9a-44d4-8a1c-7777bf7f671b",
   "metadata": {},
   "source": [
    "***Gerekli Kütüphanelerin İmport Edilmesi***"
   ]
  },
  {
   "cell_type": "markdown",
   "id": "72e126c0-b91e-4881-bbae-874dcf867f3c",
   "metadata": {},
   "source": [
    "Bu satırlar, veri işleme için pandas ve veri görselleştirme için matplotlib.pyplot kütüphanelerini içe aktarır. Pandas, veri manipülasyonu ve analizi için kullanılırken, matplotlib veri görselleştirme sağlar."
   ]
  },
  {
   "cell_type": "code",
   "execution_count": 103,
   "id": "32256926-82d7-4274-9ec2-21abe1ac279d",
   "metadata": {},
   "outputs": [],
   "source": [
    "import pandas as pd\n",
    "import matplotlib.pyplot as plt\n"
   ]
  },
  {
   "cell_type": "markdown",
   "id": "dc3ba2b7-af31-43ec-b93a-3178f960d9b1",
   "metadata": {},
   "source": [
    "***Modellerin Doğruluk Sonuçları***"
   ]
  },
  {
   "cell_type": "code",
   "execution_count": 106,
   "id": "87cf7e82-f70c-4e8b-8556-5e24ab855b7a",
   "metadata": {},
   "outputs": [],
   "source": [
    "accuracy_results = {\n",
    "    \"KNN\": 0.89,\n",
    "    \"Logistic Regression\": 0.86,\n",
    "    \"Random Forest\": 0.85,\n",
    "    \"GaussianNB\": 0.80,\n",
    "    \"Decision Tree\": 0.78,\n",
    "    \"SVC\": 0.86,\n",
    "    \"Voting Classifier\": 0.88\n",
    "}\n"
   ]
  },
  {
   "cell_type": "markdown",
   "id": "d35a4858-43b9-4ff2-aad8-bec2ccfe861e",
   "metadata": {},
   "source": [
    "***Doğruluk Sonuçlarının DataFrame'e Dönüştürülmesi***"
   ]
  },
  {
   "cell_type": "code",
   "execution_count": 109,
   "id": "7f2b757f-3824-4090-b31c-268b506f10bb",
   "metadata": {},
   "outputs": [],
   "source": [
    "accuracy_df = pd.DataFrame(list(accuracy_results.items()), columns=['Model', 'Accuracy'])\n"
   ]
  },
  {
   "cell_type": "markdown",
   "id": "ecd42f7a-4ce2-4f4a-a3f2-d624c585fb52",
   "metadata": {},
   "source": [
    "***Doğruluk Sonuçlarının Çizgi Grafiği ile Görselleştirilmesi***"
   ]
  },
  {
   "cell_type": "code",
   "execution_count": 112,
   "id": "f7b42e3a-7c74-4942-84b7-c360899bd883",
   "metadata": {},
   "outputs": [
    {
     "data": {
      "image/png": "[encoded data removed]",
      "text/plain": [
       "<Figure size 1000x600 with 1 Axes>"
      ]
     },
     "metadata": {},
     "output_type": "display_data"
    }
   ],
   "source": [
    "plt.figure(figsize=(10, 6))\n",
    "plt.plot(accuracy_df['Model'], accuracy_df['Accuracy'], marker='o', linestyle='-', color='b')\n",
    "plt.xlabel('Model')\n",
    "plt.ylabel('Doğruluk Oranı')\n",
    "plt.title('Model Doğruluk Oranları Karşılaştırması')\n",
    "plt.xticks(rotation=45, ha='right')\n",
    "plt.ylim(0, 1)\n",
    "plt.grid(True, linestyle='--', alpha=0.7)\n",
    "plt.show()\n"
   ]
  },
  {
   "cell_type": "markdown",
   "id": "04f8329c-f4bd-4e46-ac89-770d12704377",
   "metadata": {},
   "source": [
    "Figure Ayarları: plt.figure(figsize=(10, 6)) satırı, grafiğin boyutunu belirler.\n",
    "Çizgi Grafiği: plt.plot() fonksiyonu, modellerin doğruluk oranlarını gösteren bir çizgi grafiği çizer. marker='o' her veri noktası için bir işaretleyici (marker) ekler, linestyle='-' çizgi stilini belirtir ve color='b' çizginin rengini mavi yapar.\n",
    "Eksen Etiketleri ve Başlık: plt.xlabel(), plt.ylabel(), ve plt.title() fonksiyonları sırasıyla x ekseni, y ekseni etiketlerini ve grafiğin başlığını ayarlar.\n",
    "X Eksenindeki Etiketlerin Döndürülmesi: plt.xticks(rotation=45, ha='right') x eksenindeki model isimlerini 45 derece döndürür ve sağa hizalar, bu da okunabilirliği artırır.\n",
    "Y Ekseninin Sınırları ve Izgara Çizgileri: plt.ylim(0, 1) y eksenini 0 ile 1 arasında sınırlar. plt.grid(True, linestyle='--', alpha=0.7) grafik üzerinde yatay ve dikey ızgara çizgileri ekler, bu da verilerin daha iyi anlaşılmasına yardımcı olur.\n",
    "Grafiği Gösterme: plt.show() fonksiyonu, grafiği ekranda görüntüler."
   ]
  },
  {
   "cell_type": "code",
   "execution_count": null,
   "id": "6c8f7b97-0d44-4df9-9700-ad52d992dd80",
   "metadata": {},
   "outputs": [],
   "source": []
  }
 ],
 "metadata": {
  "kernelspec": {
   "display_name": "Python 3 (ipykernel)",
   "language": "python",
   "name": "python3"
  },
  "language_info": {
   "codemirror_mode": {
    "name": "ipython",
    "version": 3
   },
   "file_extension": ".py",
   "mimetype": "text/x-python",
   "name": "python",
   "nbconvert_exporter": "python",
   "pygments_lexer": "ipython3",
   "version": "3.11.7"
  }
 },
 "nbformat": 4,
 "nbformat_minor": 5
}
